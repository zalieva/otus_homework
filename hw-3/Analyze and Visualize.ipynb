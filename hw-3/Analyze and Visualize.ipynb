{
  "metadata": {
    "toc-autonumbering": false,
    "kernelspec": {
      "name": "python",
      "display_name": "Python (Pyodide)",
      "language": "python"
    },
    "language_info": {
      "codemirror_mode": {
        "name": "ipython",
        "version": 3
      },
      "file_extension": ".py",
      "mimetype": "text/x-python",
      "name": "python",
      "nbconvert_exporter": "python",
      "pygments_lexer": "ipython3",
      "version": "3.6.6"
    }
  },
  "nbformat_minor": 4,
  "nbformat": 4,
  "cells": [
    {
      "cell_type": "markdown",
      "source": "# I. Numpy",
      "metadata": {}
    },
    {
      "cell_type": "markdown",
      "source": "### Импортируйте NumPy",
      "metadata": {}
    },
    {
      "cell_type": "code",
      "source": "import numpy",
      "metadata": {},
      "execution_count": null,
      "outputs": []
    },
    {
      "cell_type": "markdown",
      "source": "### Создайте одномерный массив размера 10, заполненный нулями и пятым элемент равным 1. Трансформируйте в двумерный массив.",
      "metadata": {}
    },
    {
      "cell_type": "code",
      "source": "array = np.zeros(10)\narray[4] = 1\narray_new = array.reshape(2,5)\nprint(array_new)",
      "metadata": {},
      "execution_count": null,
      "outputs": []
    },
    {
      "cell_type": "markdown",
      "source": "### Создайте одномерный массив со значениями от 10 до 49 и разверните его (первый элемент становится последним). Найдите в нем все четные элементы.",
      "metadata": {}
    },
    {
      "cell_type": "code",
      "source": "array = np.arange(10,50)\narray_rev = np.flip(array)\narray_even = array_rev[array_rev%2==0]\nprint(array_even)",
      "metadata": {},
      "execution_count": null,
      "outputs": []
    },
    {
      "cell_type": "markdown",
      "source": "### Создайте двумерный массив 3x3 со значениями от 0 до 8",
      "metadata": {}
    },
    {
      "cell_type": "code",
      "source": "array = np.arange(9).reshape(3,3)\nprint(array)",
      "metadata": {},
      "execution_count": null,
      "outputs": []
    },
    {
      "cell_type": "markdown",
      "source": "### Создайте массив 4x3x2 со случайными значениями. Найти его минимум и максимум.",
      "metadata": {}
    },
    {
      "cell_type": "code",
      "source": "array = np.random.rand(4,3,2)\nn_max=np.max(array)\nn_min=np.min(array)\nprint(array)\nprint(n_min, n_max)",
      "metadata": {},
      "execution_count": null,
      "outputs": []
    },
    {
      "cell_type": "markdown",
      "source": "### Создайте два двумерных массива размерами 6x4 и 4x3 и произведите их матричное умножение. ",
      "metadata": {}
    },
    {
      "cell_type": "code",
      "source": "array_1 = np.random.rand(6,4)\narray_2 = np.random.rand(4,3)\nmultiplication = array_1.dot(array_2)\nprint(multiplication)",
      "metadata": {
        "trusted": true
      },
      "execution_count": null,
      "outputs": []
    },
    {
      "cell_type": "markdown",
      "source": "### Создайте случайный двумерный массив 7x7, найти у него среднее и стандартное оклонение. Нормализуйте этот массив.",
      "metadata": {}
    },
    {
      "cell_type": "code",
      "source": "array = np.random.rand(7,7)\nmean = np.mean(array)\nstd = np.std(array)\nnorma = (array-mean)/std\nprint(mean,std)\nprint(norma)",
      "metadata": {},
      "execution_count": null,
      "outputs": []
    },
    {
      "cell_type": "markdown",
      "source": "# II. Pandas",
      "metadata": {}
    },
    {
      "cell_type": "markdown",
      "source": "### Импортируйте: pandas, matplotlib, seaborn",
      "metadata": {}
    },
    {
      "cell_type": "code",
      "source": "import pandas as pd\nimport matplotlib\nimport matplotlib.pyplot as plt\nimport seaborn as sns",
      "metadata": {},
      "execution_count": null,
      "outputs": []
    },
    {
      "cell_type": "markdown",
      "source": "### Загрузите датасет Tips из набора датасетов seaborn",
      "metadata": {}
    },
    {
      "cell_type": "code",
      "source": "Tips=sns.load_dataset('tips')",
      "metadata": {},
      "execution_count": null,
      "outputs": []
    },
    {
      "cell_type": "markdown",
      "source": "### Посмотрите на первые 5 строчек",
      "metadata": {}
    },
    {
      "cell_type": "code",
      "source": "print(Tips.head())",
      "metadata": {},
      "execution_count": null,
      "outputs": []
    },
    {
      "cell_type": "markdown",
      "source": "### Узнайте сколько всего строчек и колонок в данных",
      "metadata": {}
    },
    {
      "cell_type": "code",
      "source": "print(Tips.shape)",
      "metadata": {},
      "execution_count": null,
      "outputs": []
    },
    {
      "cell_type": "markdown",
      "source": "### Проверьте есть ли пропуски в данных",
      "metadata": {}
    },
    {
      "cell_type": "code",
      "source": "print(Tips.isnull().sum())",
      "metadata": {},
      "execution_count": null,
      "outputs": []
    },
    {
      "cell_type": "markdown",
      "source": "### Посмотрите на распределение числовых признаков",
      "metadata": {}
    },
    {
      "cell_type": "code",
      "source": "print(Tips.describe())",
      "metadata": {},
      "execution_count": null,
      "outputs": []
    },
    {
      "cell_type": "markdown",
      "source": "### Найдите максимальное значение 'total_bill'",
      "metadata": {}
    },
    {
      "cell_type": "code",
      "source": "print(Tips['total_bill'].max())",
      "metadata": {},
      "execution_count": null,
      "outputs": []
    },
    {
      "cell_type": "markdown",
      "source": "### Найдите количество курящих людей",
      "metadata": {}
    },
    {
      "cell_type": "code",
      "source": "print(Tips['smoker'].value_counts()['Yes'])",
      "metadata": {},
      "execution_count": null,
      "outputs": []
    },
    {
      "cell_type": "markdown",
      "source": "### Узнайте какой средний 'total_bill' в зависимости от 'day'",
      "metadata": {}
    },
    {
      "cell_type": "code",
      "source": "print(Tips.groupby('day')['total_bill'].mean())",
      "metadata": {},
      "execution_count": null,
      "outputs": []
    },
    {
      "cell_type": "markdown",
      "source": "### Отберите строчки с 'total_bill' больше медианы и узнайте какой средний 'tip' в зависимости от 'sex'",
      "metadata": {}
    },
    {
      "cell_type": "code",
      "source": "median = Tips['total_bill'].median()\nrows_larger_median = Tips[Tips['total_bill'] > median]\nprint(rows_larger_median.groupby('sex')['tip'].mean())",
      "metadata": {},
      "execution_count": null,
      "outputs": []
    },
    {
      "cell_type": "markdown",
      "source": "### Преобразуйте признак 'smoker' в бинарный (0-No, 1-Yes)",
      "metadata": {}
    },
    {
      "cell_type": "code",
      "source": "Tips['smoker'] = Tips['smoker'].apply(lambda x: 1 if x == 'Yes' else 0)\nprint(Tips)",
      "metadata": {},
      "execution_count": null,
      "outputs": []
    },
    {
      "cell_type": "markdown",
      "source": "# III. Visualization",
      "metadata": {}
    },
    {
      "cell_type": "markdown",
      "source": "### Постройте гистограмму распределения признака 'total_bill'",
      "metadata": {}
    },
    {
      "cell_type": "code",
      "source": "plt.hist(Tips['total_bill'])\nplt.xlabel('total_bill')\nplt.show()",
      "metadata": {},
      "execution_count": null,
      "outputs": []
    },
    {
      "cell_type": "markdown",
      "source": "### Постройте scatterplot, представляющий взаимосвязь между признаками 'total_bill' и 'tip'",
      "metadata": {}
    },
    {
      "cell_type": "code",
      "source": "plt.scatter(Tips['total_bill'], Tips['tip'])\nplt.show()",
      "metadata": {},
      "execution_count": null,
      "outputs": []
    },
    {
      "cell_type": "markdown",
      "source": "### Постройте pairplot",
      "metadata": {}
    },
    {
      "cell_type": "code",
      "source": "sns.pairplot(Tips)\nplt.show()",
      "metadata": {},
      "execution_count": null,
      "outputs": []
    },
    {
      "cell_type": "markdown",
      "source": "### Постройте график взаимосвязи между признаками 'total_bill' и 'day'",
      "metadata": {}
    },
    {
      "cell_type": "code",
      "source": "sns.scatterplot(x='total_bill',y='tip', data=Tips)\nplt.xlabel('total_bill')\nplt.ylabel('day')\nplt.show()",
      "metadata": {},
      "execution_count": null,
      "outputs": []
    },
    {
      "cell_type": "markdown",
      "source": "### Постройте две гистограммы распределения признака 'tip' в зависимости от категорий 'time'",
      "metadata": {}
    },
    {
      "cell_type": "code",
      "source": "sns.histplot(x='tip', hue='time', data=Tips)\nplt.show()",
      "metadata": {},
      "execution_count": null,
      "outputs": []
    },
    {
      "cell_type": "markdown",
      "source": "### Постройте два графика scatterplot, представляющих взаимосвязь между признаками 'total_bill' и 'tip' один для Male, другой для Female и раскрасьте точки в зависимоти от признака 'smoker'",
      "metadata": {}
    },
    {
      "cell_type": "code",
      "source": "plt.subplot(1,2,1)\nsns.scatterplot(x='total_bill',y='tip',hue='smoker', data=Tips[Tips['sex']=='Male'])\nplt.subplot(1,2,2)\nsns.scatterplot(x='total_bill',y='tip',hue='smoker', data=Tips[Tips['sex']=='Female'])\nplt.show()",
      "metadata": {},
      "execution_count": null,
      "outputs": []
    },
    {
      "cell_type": "markdown",
      "source": "## Сделайте выводы по анализу датасета и построенным графикам. По желанию можете продолжить анализ данных и также отразить это в выводах.",
      "metadata": {}
    },
    {
      "cell_type": "code",
      "source": "1. График взаимосвязи между признаками 'total_bill' и 'day' показывает, что сумма счета в основном распределена равномерно по дням.\n2. Гистограммы распределения признака 'tip' в зависимости от времени (Lunch/Dinner) показывают, что вечером чаще оставляют чаевые большего размера.\n3. Графики scatterplot для Male и Female с разделением по признаку 'smoker' показывают, что люди, курящие, обычно оставляют более высокие чаевые.\n4. Также стоит обратить внимание на то, что графики scatterplot для Male и Female показывают, что в целом мужчины оставляют более высокие чаевые и платят больше за счет, чем женщины.\n5. По графику взаимосвязи между 'total_bill' и 'day' можно заметить, что в выходные (пятница и суббота) счета обычно выше, что может указывать на то, что люди чаще посещают рестораны в эти дни или заказывают более дорогие блюда.\n6. Гистограммы распределения чаевых также показывают, что в целом вечером (во время ужина) люди оставляют более щедрые чаевые, что может быть связано с тем, что в это время чаще посещаются рестораны для особых случаев или проведения времени с друзьями и семьей.",
      "metadata": {},
      "execution_count": null,
      "outputs": []
    }
  ]
}
