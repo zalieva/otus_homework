{
  "metadata": {
    "varInspector": {
      "cols": {
        "lenName": 16,
        "lenType": 16,
        "lenVar": 40
      },
      "kernels_config": {
        "python": {
          "delete_cmd_postfix": "",
          "delete_cmd_prefix": "del ",
          "library": "var_list.py",
          "varRefreshCmd": "print(var_dic_list())"
        },
        "r": {
          "delete_cmd_postfix": ") ",
          "delete_cmd_prefix": "rm(",
          "library": "var_list.r",
          "varRefreshCmd": "cat(var_dic_list()) "
        }
      },
      "types_to_exclude": [
        "module",
        "function",
        "builtin_function_or_method",
        "instance",
        "_Feature"
      ],
      "window_display": false
    },
    "kernelspec": {
      "name": "python",
      "display_name": "Python (Pyodide)",
      "language": "python"
    },
    "language_info": {
      "codemirror_mode": {
        "name": "ipython",
        "version": 3
      },
      "file_extension": ".py",
      "mimetype": "text/x-python",
      "name": "python",
      "nbconvert_exporter": "python",
      "pygments_lexer": "ipython3",
      "version": "3.7.6"
    }
  },
  "nbformat_minor": 4,
  "nbformat": 4,
  "cells": [
    {
      "cell_type": "markdown",
      "source": "# <center> Homework 1 </center>",
      "metadata": {}
    },
    {
      "cell_type": "markdown",
      "source": "# 0. Где мы сейчас?\n<img src=\"https://upload.wikimedia.org/wikipedia/commons/thumb/3/38/Jupyter_logo.svg/1200px-Jupyter_logo.svg.png\" width=\"150\">\n\n[Jupyter Notebook](https://jupyter.org/) - интерактивная среда для запуска программного кода в браузере. Удобный инструмент для анализа данных, который используется многими специалистами по data science. Позволяет выполнять отдельные ячейки с кодом, а не всю программу сразу, что очень удобно при знакомстве с данными.",
      "metadata": {}
    },
    {
      "cell_type": "markdown",
      "source": "# 1. Python\n> Python - это свободный интерпретируемый объектно-ориентированный расширяемый встраиваемый язык программирования очень высокого уровня \n\n>*(Г.Россум, Ф.Л.Дж.Дрейк, Д.С.Откидач \"Язык программирования Python\").*\n\nА если без цитат, то питон - это просто очень крутой язык, созданный в 1991 году [Великодушным пожизненным диктатором](https://ru.wikipedia.org/wiki/%D0%92%D0%B5%D0%BB%D0%B8%D0%BA%D0%BE%D0%B4%D1%83%D1%88%D0%BD%D1%8B%D0%B9_%D0%BF%D0%BE%D0%B6%D0%B8%D0%B7%D0%BD%D0%B5%D0%BD%D0%BD%D1%8B%D0%B9_%D0%B4%D0%B8%D0%BA%D1%82%D0%B0%D1%82%D0%BE%D1%80) Гвидо ван Россумом и названный в честь любимого им шоу [Monty Python's Flying Circus](https://en.wikipedia.org/wiki/Monty_Python%27s_Flying_Circus)\n\n<img src=\"https://advancelocal-adapter-image-uploads.s3.amazonaws.com/image.oregonlive.com/home/olive-media/width2048/img/tv/photo/2018/10/10/montycastjpg-7ef393e2355a42aa.jpg\" width=\"300\">",
      "metadata": {}
    },
    {
      "cell_type": "markdown",
      "source": "# 2. Anaconda\n\n<img src=\"https://cdn-images-1.medium.com/max/1600/0*MVkCW8_Bmj-nuAnI.png\" width=\"300\">\n\n[Сборка Anaconda](https://www.anaconda.com/products/individual) включает очень много полезных библиотек для анализа данных. \n\nСреди наиболее популярных библиотек:\n - <a href=\"http://numpy.org\">Numpy</a> - это один из основных пакетов для математических вычислений. Он содержит средства для работы с многомерными массивами и высокоуровневыми математическими функциями\n - <a href=\"https://www.scipy.org/\">SciPy</a> - научные вычисления. Методы оптимизации, интегрирования, модули обработки сигналов и изображений, статистика, линейная алгебра, сплайны, кластеризация и многое другое\n -  <a href=\"http://pandas.pydata.org/\">Pandas</a> - основная библиотека для обработки и анализа данных. Предназначена для данных разной природы - матричных, панельных данных, временных рядов. Претендует на звание самого мощного и гибкого средства для анализа данных с открытым исходным кодом\n - <a href=\"http://scikit-learn.org/stable/\">Scikit-learn</a> - реализация очень многих методов машинного обучения с отличной документацией. \n - <a href=\"http://http://matplotlib.org/\">matplotlib</a> - хорошая библиотека для визуализации данных",
      "metadata": {}
    },
    {
      "cell_type": "markdown",
      "source": "# 3. Задачки",
      "metadata": {}
    },
    {
      "cell_type": "markdown",
      "source": "## Задача 1\n$N$ хоббитов делят $K$ кусков эльфийского хлеба поровну, не делящийся нацело остаток остается в корзинке у Сэма. Напишите функцию, которая принимает на вход параметры $N$ и $K$ и возвращает два числа: $x$ - cколько кусков эльфиского хлеба достанется каждому хоббиту, и $y$ - сколько кусков остаётся в корзинке.",
      "metadata": {}
    },
    {
      "cell_type": "code",
      "source": "def share_bread(N, K):\n    x = int(K/N)\n    y = K-(x*N)\n    return x, y\n\n# если в функции всё верно, то после выполнения этой строчки, не должно выскакивать ошибок\nassert share_bread(N=3, K=14) == (4, 2)",
      "metadata": {
        "trusted": true
      },
      "execution_count": null,
      "outputs": []
    },
    {
      "cell_type": "markdown",
      "source": "## Задача 2\n\nВ копях Мории хоббиты нашли стену, на которой высечены разные натуральные числа. Согласно древним сказаниям, это даты сражений. Хоббиты знают, что сражения происходили только по високосным годам. Помогите хоббитам определить, является ли год с данным числом датой великого сражения. Если это так, то верните строку \"YOU SHALL PASS\", иначе верните \"YOU SHALL NOT PASS\". Напомним, что в соответствии с хоббитским календарем, год является високосным, если его номер кратен 4, но не кратен 100, а также если он кратен 400.",
      "metadata": {}
    },
    {
      "cell_type": "code",
      "source": "def leap_year(year):\n    if (year % 4 == 0 and year % 100 != 0) or year % 400 == 0:\n        text_result = 'YOU SHALL PASS'\n    else:\n        text_result = 'YOU SHALL NOT PASS'\n    return text_result\n\nassert leap_year(5) == 'YOU SHALL NOT PASS'",
      "metadata": {
        "trusted": true
      },
      "execution_count": null,
      "outputs": []
    },
    {
      "cell_type": "markdown",
      "source": "## Задача 3\n<img src=\"http://i0.kym-cdn.com/photos/images/original/001/187/255/5e9.gif\" width=300>\nДля могущественного магического ритуала Гендальфу необходимо быстро подсчитывать площадь своего амулета, который умеет менять размеры. Известно, что амулет имеет форму треугольника и Гендальф знает длину каждой из сторон. Напишите функцию, которая считает площадь амулета по трем сторонам.  \n\nПодсказка: используйте формулу Герона\n$$ S = \\sqrt{p(p-a)(p-b)(p-c)} $$\n$$ p = \\frac{a + b + c}{2}$$\n",
      "metadata": {}
    },
    {
      "cell_type": "code",
      "source": "import numpy as np\n\ndef amulet_area(a, b, c):\n    p = (a+b+c)/2\n    S = np.sqrt(p*(p-a)*(p-b)*(p-c))\n    return S\n\nassert amulet_area(3, 4, 5) == 6",
      "metadata": {
        "trusted": true
      },
      "execution_count": null,
      "outputs": []
    },
    {
      "cell_type": "markdown",
      "source": "## Задача 4\n\nХоббиты собираются пешком идти до Мордора и им нужно подсчитать расстояние, которое им предстоит пройти. Хоббиты смогли вспомнить сразу несколько метрик расстояния: евклидово, манхэттена и косинусное, так что ваша задача - напистаь функцию под каждую из них. Важное условие - используйте только базовые функции numpy для решения.\n\n\n* Евклидово расстояние\n$$ d(a, b) = \\sqrt{\\sum_i (a_i - b_i)^2} $$\n* Расстояние Манхэттена\n$$ d(a, b) = \\sum_i |a_i - b_i| $$\n* Косинусное расстояние\n$$ d(a, b) = 1 - \\frac{a^\\top b}{||a||_2\\cdot||b||_2}$$",
      "metadata": {}
    },
    {
      "cell_type": "code",
      "source": "def cal_euclidean(a, b):    \n    distance = np.sqrt(np.sum((a-b)**2))\n    return distance\n\ndef cal_manhattan(a, b):    \n    distance = np.sum(np.abs(a-b))\n    return distance\n\ndef cal_cosine(a, b):    \n    distance = 1-(np.dot(a,b)/(np.linalg.norm(a, 2)*np.linalg.norm(b, 2)))\n    return distance",
      "metadata": {
        "trusted": true
      },
      "execution_count": null,
      "outputs": []
    },
    {
      "cell_type": "code",
      "source": "a = np.random.randint(-10, 10, size=10)\nb = np.random.randint(-10, 10, size=10)\nprint(cal_euclidean(a, b))\nprint(cal_manhattan(a, b))\nprint(cal_cosine(a, b))",
      "metadata": {
        "trusted": true
      },
      "execution_count": null,
      "outputs": []
    },
    {
      "cell_type": "markdown",
      "source": "## Задача 5\n\nНу и напоследок, еще немного практики numpy, без которой не обходится ни один хоббит.\n",
      "metadata": {}
    },
    {
      "cell_type": "markdown",
      "source": "Создайте случайный array (`np.random.rand()`) длинной 100. Преобразуйте его так, чтобы\n* Максимальный элемент(ы) был равен 1\n* Минимальный элемент(ы) был равен 0\n* Остальные элементы в итнтервале от 0 до 1 остаются прежними",
      "metadata": {}
    },
    {
      "cell_type": "code",
      "source": "my_array = np.sort(np.random.rand(100))\nmy_array[0], my_array[-1] = 0,1\nprint(np.max(my_array), np.min(my_array))\nprint(my_array)",
      "metadata": {
        "trusted": true
      },
      "execution_count": null,
      "outputs": []
    },
    {
      "cell_type": "markdown",
      "source": "Создайте array размером $5 \\times 6$ с целыми числами в интервале [0,50]. Напечатайте колонку, которая содержит максимальный элемент полученной матрицы ",
      "metadata": {}
    },
    {
      "cell_type": "code",
      "source": "my_array = np.random.randint(0, 50, size=(5,6))\nselected_column =  [np.where(np.max(my_array) == i) for i in my_array if np.max(my_array) in i][0]\nprint('Shape: ',my_array.shape)\nprint('Array')\nprint(my_array)\nprint(selected_column)",
      "metadata": {
        "trusted": true
      },
      "execution_count": null,
      "outputs": []
    },
    {
      "cell_type": "markdown",
      "source": "Напишите функцию, которая принимает на вохд матрицу (array) X и возвращает все её уникальные строки в виде новой матрицы.",
      "metadata": {}
    },
    {
      "cell_type": "code",
      "source": "def get_unique_rows(X):\n    X_unique = np.unique(X, axis=0)\n    return X_unique",
      "metadata": {
        "trusted": true
      },
      "execution_count": null,
      "outputs": []
    },
    {
      "cell_type": "code",
      "source": "X = np.random.randint(4, 6, size=(10,3))\nprint(X)",
      "metadata": {
        "trusted": true
      },
      "execution_count": null,
      "outputs": []
    },
    {
      "cell_type": "code",
      "source": "get_unique_rows(X)",
      "metadata": {
        "trusted": true
      },
      "execution_count": null,
      "outputs": []
    }
  ]
}