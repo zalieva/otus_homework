{
  "metadata": {
    "kernelspec": {
      "name": "python",
      "display_name": "Python (Pyodide)",
      "language": "python"
    },
    "language_info": {
      "codemirror_mode": {
        "name": "python",
        "version": 3
      },
      "file_extension": ".py",
      "mimetype": "text/x-python",
      "name": "python",
      "nbconvert_exporter": "python",
      "pygments_lexer": "ipython3",
      "version": "3.8"
    }
  },
  "nbformat_minor": 4,
  "nbformat": 4,
  "cells": [
    {
      "cell_type": "code",
      "source": "import numpy as np\nimport pandas as pd\nimport matplotlib.pyplot as plt\nimport seaborn as sns\nfrom sklearn.model_selection import train_test_split\nfrom sklearn.neighbors import KNeighborsClassifier\nfrom sklearn.preprocessing import LabelEncoder\nfrom sklearn.metrics import roc_auc_score, accuracy_score, precision_score, recall_score, f1_score\nfrom sklearn.preprocessing import StandardScaler\n\nimport warnings\nwarnings.filterwarnings(\"ignore\")\n%matplotlib inline\nsns.set_style('darkgrid')",
      "metadata": {
        "trusted": true,
        "tags": [],
        "editable": true,
        "slideshow": {
          "slide_type": ""
        }
      },
      "outputs": [],
      "execution_count": null
    },
    {
      "cell_type": "code",
      "source": "dataset = pd.read_csv('data.csv', index_col=0)\n\nprint(dataset.describe())\nprint(dataset.info())",
      "metadata": {
        "trusted": true
      },
      "outputs": [],
      "execution_count": null
    },
    {
      "cell_type": "code",
      "source": "len_columns = len(dataset.select_dtypes('number').columns)\nfor i in range(len_columns):\n    sns.displot(x=dataset[dataset.select_dtypes('number').columns[i]], hue=dataset.diagnosis, kind=\"kde\")\nplt.show()",
      "metadata": {
        "trusted": true
      },
      "outputs": [],
      "execution_count": null
    },
    {
      "cell_type": "code",
      "source": "dataset['diagnosis'] = LabelEncoder().fit_transform(dataset['diagnosis'])\ncorr = dataset.corr()\nplt.figure(figsize=(20, 12))\nsns.heatmap(corr, cmap='seismic', annot=True, linewidths=.5, fmt='.2f')\nplt.show()",
      "metadata": {
        "trusted": true
      },
      "outputs": [],
      "execution_count": null
    },
    {
      "cell_type": "code",
      "source": "cols = corr[abs(corr['diagnosis']) > 0.75].index.tolist()\nprint(f'Cильно скоррелированы признаки - {cols}')",
      "metadata": {
        "trusted": true
      },
      "outputs": [],
      "execution_count": null
    },
    {
      "cell_type": "code",
      "source": "sns.pairplot(dataset[cols], diag_kind=\"kde\", hue=\"diagnosis\", palette='viridis')\nplt.show()",
      "metadata": {
        "trusted": true
      },
      "outputs": [],
      "execution_count": null
    },
    {
      "cell_type": "code",
      "source": "for i in range(len(dataset.columns)):\n    sns.boxplot(y=dataset[dataset.columns[i+1]], hue=dataset.diagnosis)\n    plt.show()",
      "metadata": {
        "trusted": true
      },
      "outputs": [],
      "execution_count": null
    },
    {
      "cell_type": "code",
      "source": "#f\"По признакам 'radius_mean', 'texture_mean', 'perimeter_mean','area_mean', 'compactness_mean', 'concavity_mean', \"\n#      f\"'concave points_mean', 'symmetry_mean','radius_se', 'perimeter_se', 'area_se', 'perimeter_worst',\"\n #     f\" 'area_worst', 'compactness_worst', 'concave points_worst'\"\n  #    f\"можно отделить злокачественные новообразования от доброкачественных\")",
      "metadata": {
        "trusted": true
      },
      "outputs": [],
      "execution_count": null
    },
    {
      "cell_type": "code",
      "source": "X_train, X_test, y_train, y_test = train_test_split(\n    dataset.drop(['diagnosis'], axis=1), dataset['diagnosis'], test_size=0.30, random_state=42, stratify=dataset['diagnosis']\n)\n\nprint(X_train.shape, X_test.shape, y_train.shape, y_test.shape)\nprint(y_train.value_counts(normalize=True))",
      "metadata": {
        "trusted": true
      },
      "outputs": [],
      "execution_count": null
    },
    {
      "cell_type": "code",
      "source": "scaler = StandardScaler()\n\nX_train_scaled = scaler.fit_transform(X_train)\nX_test_scaled = scaler.transform(X_test)",
      "metadata": {
        "trusted": true
      },
      "outputs": [],
      "execution_count": null
    },
    {
      "cell_type": "code",
      "source": "knn = KNeighborsClassifier()\nknn.fit(X_train_scaled, y_train)\nprint(knn)",
      "metadata": {
        "trusted": true
      },
      "outputs": [],
      "execution_count": null
    },
    {
      "cell_type": "code",
      "source": "y_pred_train = knn.predict(X_train_scaled)\ny_pred_test = knn.predict(X_test_scaled)\n\ndef quality_report(prediction, actual):\n    print(\"Accuracy: {:.3f}\\nPrecision: {:.3f}\\nRecall: {:.3f}\\nf1_score: {:.3f}\".format(\n        accuracy_score(prediction, actual),\n        precision_score(prediction, actual),\n        recall_score(prediction, actual),\n        f1_score(prediction, actual)\n    ))",
      "metadata": {
        "trusted": true
      },
      "outputs": [],
      "execution_count": null
    },
    {
      "cell_type": "code",
      "source": "print(\"Train quality:\")\nquality_report(y_pred_train, y_train)\nprint(\"\\nTest quality:\")\nquality_report(y_pred_test, y_test)",
      "metadata": {
        "trusted": true
      },
      "outputs": [],
      "execution_count": null
    },
    {
      "cell_type": "code",
      "source": "roc_auc = roc_auc_score(y_test, y_pred_test)\nprint(f'ROC-AUC: {roc_auc}')",
      "metadata": {
        "trusted": true
      },
      "outputs": [],
      "execution_count": null
    },
    {
      "cell_type": "code",
      "source": "neighbors = range(1, 50)\nf1_score_train = []\nf1_score_test = []\nfor k in neighbors:\n    knn = KNeighborsClassifier(n_neighbors=k)\n    knn.fit(X_train_scaled, y_train)\n    f1_score_train.append(f1_score(knn.predict(X_train_scaled), y_train))\n    f1_score_test.append(f1_score(knn.predict(X_test_scaled), y_test))\n\nplt.plot(neighbors, f1_score_train, color='blue', label='train')\nplt.plot(neighbors, f1_score_test, color='red', label='test')\nplt.title(\"Max test quality: {:.3f}\\nBest k: {}\".format(max(f1_score_test), np.argmax(f1_score_test) + 1))\nplt.legend()\nplt.show()",
      "metadata": {
        "trusted": true
      },
      "outputs": [],
      "execution_count": null
    },
    {
      "cell_type": "code",
      "source": "knn5 = KNeighborsClassifier(n_neighbors=5)\nknn5.fit(X_train_scaled, y_train)\n\ny_pred_train = knn5.predict(X_train_scaled)\ny_pred_test = knn5.predict(X_test_scaled)\n\nprint(\"Train quality:\")\nquality_report(y_pred_train, y_train)\nprint(\"\\nTest quality:\")\nquality_report(y_pred_test, y_test)",
      "metadata": {
        "trusted": true
      },
      "outputs": [],
      "execution_count": null
    },
    {
      "cell_type": "code",
      "source": "# После измнения кол-ва соседей метрики качества не изменились т.к. в KNeighborsClassifier по умолчанию n_neighbors=5",
      "metadata": {
        "trusted": true
      },
      "outputs": [],
      "execution_count": null
    }
  ]
}