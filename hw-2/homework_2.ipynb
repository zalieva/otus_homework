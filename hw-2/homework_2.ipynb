{
  "metadata": {
    "varInspector": {
      "cols": {
        "lenName": 16,
        "lenType": 16,
        "lenVar": 40
      },
      "kernels_config": {
        "python": {
          "delete_cmd_postfix": "",
          "delete_cmd_prefix": "del ",
          "library": "var_list.py",
          "varRefreshCmd": "print(var_dic_list())"
        },
        "r": {
          "delete_cmd_postfix": ") ",
          "delete_cmd_prefix": "rm(",
          "library": "var_list.r",
          "varRefreshCmd": "cat(var_dic_list()) "
        }
      },
      "types_to_exclude": [
        "module",
        "function",
        "builtin_function_or_method",
        "instance",
        "_Feature"
      ],
      "window_display": false
    },
    "kernelspec": {
      "name": "python",
      "display_name": "Python (Pyodide)",
      "language": "python"
    },
    "language_info": {
      "codemirror_mode": {
        "name": "python",
        "version": 3
      },
      "file_extension": ".py",
      "mimetype": "text/x-python",
      "name": "python",
      "nbconvert_exporter": "python",
      "pygments_lexer": "ipython3",
      "version": "3.8"
    }
  },
  "nbformat_minor": 4,
  "nbformat": 4,
  "cells": [
    {
      "cell_type": "markdown",
      "source": "# <center> Homework 2 </center>",
      "metadata": {}
    },
    {
      "cell_type": "code",
      "source": "# autoreload позволяет нам подгружать изменения во внешнем коде\n# без необходимости перезагружать kernel у ноутбука\n%load_ext autoreload\n%autoreload 2",
      "metadata": {},
      "execution_count": null,
      "outputs": []
    },
    {
      "cell_type": "markdown",
      "source": "## 1) Exceptions\nВ модуле `exceptions` объявите следующие исключения:\n- LowFuelError\n- NotEnoughFuel\n- CargoOverload",
      "metadata": {}
    },
    {
      "cell_type": "code",
      "source": "import exceptions",
      "metadata": {},
      "execution_count": null,
      "outputs": []
    },
    {
      "cell_type": "markdown",
      "source": "## 2) Vehicle \n\n<img src=\"https://cs.pikabu.ru/images/big_size_comm/2013-12_4/13874526438897.jpg\" width=300>\n\nДоработайте базовый класс `Vehicle`:\n- добавьте атрибуты `weight`, `started`, `fuel`, `fuel_consumption` со значениями по умолчанию\n- добавьте инициализатор для установки `weight`, `fuel`, `fuel_consumption`\n- добавьте метод `start`, который, если ещё не состояние `started`, проверяет, что топлива больше нуля, \n  и обновляет состояние `started`, иначе выкидывает исключение `exceptions.LowFuelError`\n- добавьте метод `move`, который проверяет, \n  что достаточно топлива для преодоления переданной дистанции, \n  и изменяет количество оставшегося топлива, иначе выкидывает исключение `exceptions.NotEnoughFuel`",
      "metadata": {}
    },
    {
      "cell_type": "code",
      "source": "from abc import ABC\n\n\nclass Vehicle(ABC):\n    def __init__(self, weight=0, started=False, fuel=0, fuel_consumption=0):\n        self.weight = weight\n        self.started = started\n        self.fuel = fuel\n        self.fuel_consumption = fuel_consumption\n\n    def start(self):\n        if not self.started:\n            if self.fuel > 0:\n                self.started = True\n            else:\n                raise exceptions.LowFuelError(\"low fuel to start\")\n\n    def move(self, distance):\n        r_fuel = self.fuel_consumption*distance\n        if r_fuel <= self.fuel:\n            self.fuel -= r_fuel\n        else:\n            raise exceptions.NotEnoughFuel('not enough fuel to move')",
      "metadata": {},
      "execution_count": null,
      "outputs": []
    },
    {
      "cell_type": "markdown",
      "source": "## 3) Engine \n\n<img src=\"https://upload.wikimedia.org/wikipedia/commons/6/6f/National_gas_engine_%28Rankin_Kennedy%2C_Modern_Engines%2C_Vol_II%29.jpg\" width=250>\n\nСоздайте датакласс `Engine`, добавьте атрибуты `volume` и `pistons`",
      "metadata": {}
    },
    {
      "cell_type": "code",
      "source": "from dataclasses import dataclass\n\n@dataclass\nclass Engine:\n    volume: float\n    pistons: int",
      "metadata": {},
      "execution_count": null,
      "outputs": []
    },
    {
      "cell_type": "markdown",
      "source": "## 4) Car \n\n<img src=\"https://lh3.googleusercontent.com/proxy/RJqzSJqZFQrx7xOXimZQ4ooInGE6ViJdwz7JZZ_b__Eun-stRH2NMw47fM4je2hL1afRtmpKS9kZUVY0p2YcaZVtJ7bKRw3wWHRRa6zVUbeIb5TYLNkwx5A\" width=250>\n\nCоздайте класс `Car`\n    - класс `Car` должен быть наследником `Vehicle`\n    - добавьте атрибут `engine` классу `Car`\n    - объявите метод `set_engine`, который принимает в себя экземпляр объекта `Engine` и устанавливает на текущий экземпляр `Car`",
      "metadata": {}
    },
    {
      "cell_type": "code",
      "source": "class Car(Vehicle):\n    def __init__(self, weight=0, started=False, fuel=0, fuel_consumption=0, engine=None):\n        super().__init__(weight, started, fuel, fuel_consumption)\n        self.engine = engine\n\n    def set_engine(self, volume, pistons):\n        self.engine = Engine(volume, pistons)",
      "metadata": {},
      "execution_count": null,
      "outputs": []
    },
    {
      "cell_type": "markdown",
      "source": "## 5) Plane\n\n<img src=\"http://www.weirduniverse.net/images/2017/1934parachute02.jpg\" width=250>\n\nСоздайте класс `Plane`\n- класс `Plane` должен быть наследником `Vehicle`\n- добавьте атрибуты `cargo` и `max_cargo` классу `Plane`\n- добавьте `max_cargo` в инициализатор (переопределите родительский)\n- объявите метод `load_cargo`, который принимает число, проверяет, что в сумме с текущим `cargo` не будет перегруза, и обновляет значение, в ином случае выкидывает исключение `exceptions.CargoOverload`\n- объявите метод `remove_all_cargo`, который обнуляет значение `cargo` и возвращает значение `cargo`, которое было до обнуления",
      "metadata": {}
    },
    {
      "cell_type": "code",
      "source": "class Plane(Vehicle):\n\n    def __init__(self, weight=0, started=False, fuel=0, fuel_consumption=0, cargo=0, max_cargo=0):\n        super().__init__(weight, started, fuel, fuel_consumption)\n        self.cargo = cargo\n        self.max_cargo = max_cargo\n\n    def load_cargo(self, number):\n        if self.cargo + number <= self.max_cargo:\n            self.cargo +=number\n        else:\n            raise exceptions.CargoOverload('overload')\n\n    def remove_all_cargo(self):\n        cargo = self.cargo\n        self.cargo = 0\n        return cargo",
      "metadata": {},
      "execution_count": null,
      "outputs": []
    }
  ]
}